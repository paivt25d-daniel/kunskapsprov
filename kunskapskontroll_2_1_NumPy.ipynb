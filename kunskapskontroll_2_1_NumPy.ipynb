{
 "cells": [
  {
   "cell_type": "markdown",
   "id": "dacf74e6",
   "metadata": {},
   "source": [
    "# NumPy"
   ]
  },
  {
   "cell_type": "markdown",
   "id": "01b2bf34",
   "metadata": {},
   "source": [
    "Read the links: https://numpy.org/doc/stable/user/quickstart.html  and https://numpy.org/doc/stable/user/basics.broadcasting.html  before solving the exercises. "
   ]
  },
  {
   "cell_type": "code",
   "execution_count": 1,
   "id": "1f79e4a6",
   "metadata": {},
   "outputs": [],
   "source": [
    "import numpy as np"
   ]
  },
  {
   "cell_type": "markdown",
   "id": "7dae6889",
   "metadata": {},
   "source": [
    "### Print out the dimension (number of axes), shape, size and the datatype of the matrix A."
   ]
  },
  {
   "cell_type": "code",
   "execution_count": 2,
   "id": "7b3678cd",
   "metadata": {},
   "outputs": [],
   "source": [
    "A = np.arange(1, 16).reshape(3,5)"
   ]
  },
  {
   "cell_type": "code",
   "execution_count": 3,
   "id": "31d39235",
   "metadata": {},
   "outputs": [
    {
     "name": "stdout",
     "output_type": "stream",
     "text": [
      "2\n",
      "(3, 5)\n",
      "15\n",
      "<class 'numpy.ndarray'>\n"
     ]
    }
   ],
   "source": [
    "print(A.ndim)\n",
    "print(A.shape)\n",
    "print(A.size)\n",
    "print(type(A))"
   ]
  },
  {
   "cell_type": "markdown",
   "id": "e56d2a96",
   "metadata": {},
   "source": [
    "### Do the following computations on the matrices B and C: \n",
    "* Elementwise subtraction. \n",
    "* Elementwise multiplication. \n",
    "* Matrix multiplication (by default you should use the @ operator)."
   ]
  },
  {
   "cell_type": "code",
   "execution_count": 4,
   "id": "a7053fbb",
   "metadata": {},
   "outputs": [
    {
     "name": "stdout",
     "output_type": "stream",
     "text": [
      "[[1 2 3]\n",
      " [4 5 6]\n",
      " [7 8 9]]\n",
      "\n",
      "[[2. 2. 2.]\n",
      " [2. 2. 2.]\n",
      " [2. 2. 2.]]\n"
     ]
    }
   ],
   "source": [
    "B = np.arange(1, 10).reshape(3, 3)\n",
    "C = np.ones((3, 3))*2\n",
    "\n",
    "print(B)\n",
    "print()\n",
    "print(C)"
   ]
  },
  {
   "cell_type": "code",
   "execution_count": 5,
   "id": "3cd794ae",
   "metadata": {},
   "outputs": [
    {
     "name": "stdout",
     "output_type": "stream",
     "text": [
      "[[-1.  0.  1.]\n",
      " [ 2.  3.  4.]\n",
      " [ 5.  6.  7.]]\n",
      "\n",
      "[[ 2.  4.  6.]\n",
      " [ 8. 10. 12.]\n",
      " [14. 16. 18.]]\n",
      "\n",
      "[[12. 12. 12.]\n",
      " [30. 30. 30.]\n",
      " [48. 48. 48.]]\n"
     ]
    }
   ],
   "source": [
    "print(B - C)\n",
    "print()\n",
    "print(B * C)\n",
    "print()\n",
    "print(B @ C)"
   ]
  },
  {
   "cell_type": "markdown",
   "id": "96030d53",
   "metadata": {},
   "source": [
    "### Do the following calculations on the matrix:\n",
    "* Exponentiate each number elementwise (use the np.exp function).\n",
    "\n",
    "* Calculate the minimum value in the whole matrix. \n",
    "* Calculcate the minimum value in each row. \n",
    "* Calculcate the minimum value in each column. \n",
    "\n",
    "\n",
    "* Find the index value for the minimum value in the whole matrix (hint: use np.argmin).\n",
    "* Find the index value for the minimum value in each row (hint: use np.argmin).\n",
    "\n",
    "\n",
    "* Calculate the sum for all elements.\n",
    "* Calculate the mean for each column. \n",
    "* Calculate the median for each column. "
   ]
  },
  {
   "cell_type": "code",
   "execution_count": 6,
   "id": "f8a9166b",
   "metadata": {},
   "outputs": [
    {
     "name": "stdout",
     "output_type": "stream",
     "text": [
      "[[1 2 3]\n",
      " [4 5 6]\n",
      " [7 8 9]]\n"
     ]
    }
   ],
   "source": [
    "B = np.arange(1, 10).reshape(3, 3)\n",
    "print(B)"
   ]
  },
  {
   "cell_type": "code",
   "execution_count": 7,
   "id": "f03f24f7",
   "metadata": {},
   "outputs": [
    {
     "name": "stdout",
     "output_type": "stream",
     "text": [
      "[[2.71828183e+00 7.38905610e+00 2.00855369e+01]\n",
      " [5.45981500e+01 1.48413159e+02 4.03428793e+02]\n",
      " [1.09663316e+03 2.98095799e+03 8.10308393e+03]]\n",
      "\n",
      "1\n",
      "\n",
      "[1 4 7]\n",
      "\n",
      "[1 2 3]\n",
      "\n",
      "0\n",
      "\n",
      "0\n",
      "\n",
      "0\n",
      "\n",
      "45\n",
      "\n",
      "5.0\n",
      "\n",
      "5.0\n"
     ]
    }
   ],
   "source": [
    "print(np.exp(B))\n",
    "print()\n",
    "print(B.min())\n",
    "print()\n",
    "print(B.min(axis=1))\n",
    "print()\n",
    "print(B.min(axis=0))\n",
    "print()\n",
    "print(np.argmin(B))\n",
    "print()\n",
    "print(np.argmin(B.min(axis=1)))\n",
    "print()\n",
    "print(np.argmin(B.min(axis=0)))\n",
    "print()\n",
    "print(B.sum())\n",
    "print()\n",
    "print(np.mean(B))\n",
    "print()\n",
    "print(np.median(B))"
   ]
  },
  {
   "cell_type": "markdown",
   "id": "541eb7ba",
   "metadata": {},
   "source": [
    "### What does it mean when you provide fewer indices than axes when slicing? See example below."
   ]
  },
  {
   "cell_type": "code",
   "execution_count": 8,
   "id": "9c8abf56",
   "metadata": {},
   "outputs": [
    {
     "name": "stdout",
     "output_type": "stream",
     "text": [
      "[[ 1  2  3  4  5]\n",
      " [ 6  7  8  9 10]\n",
      " [11 12 13 14 15]]\n"
     ]
    }
   ],
   "source": [
    "print(A)"
   ]
  },
  {
   "cell_type": "code",
   "execution_count": 9,
   "id": "69415f7b",
   "metadata": {},
   "outputs": [
    {
     "data": {
      "text/plain": [
       "array([ 6,  7,  8,  9, 10])"
      ]
     },
     "execution_count": 9,
     "metadata": {},
     "output_type": "execute_result"
    }
   ],
   "source": [
    "A[1]"
   ]
  },
  {
   "cell_type": "markdown",
   "id": "6c53541b",
   "metadata": {},
   "source": [
    "**Answer:**"
   ]
  },
  {
   "cell_type": "code",
   "execution_count": 10,
   "id": "de01e120",
   "metadata": {},
   "outputs": [],
   "source": [
    "# It is considered a complete slices."
   ]
  },
  {
   "cell_type": "markdown",
   "id": "6652d0c9",
   "metadata": {},
   "source": [
    "### Iterating over multidimensional arrays is done with respect to the first axis, so in the example below we iterate trough the rows. If you would like to iterate through the array *elementwise*, how would you do that?"
   ]
  },
  {
   "cell_type": "code",
   "execution_count": 11,
   "id": "9459864f",
   "metadata": {},
   "outputs": [
    {
     "data": {
      "text/plain": [
       "array([[ 1,  2,  3,  4,  5],\n",
       "       [ 6,  7,  8,  9, 10],\n",
       "       [11, 12, 13, 14, 15]])"
      ]
     },
     "execution_count": 11,
     "metadata": {},
     "output_type": "execute_result"
    }
   ],
   "source": [
    "A"
   ]
  },
  {
   "cell_type": "code",
   "execution_count": 12,
   "id": "a671bb5a",
   "metadata": {},
   "outputs": [
    {
     "name": "stdout",
     "output_type": "stream",
     "text": [
      "[1 2 3 4 5]\n",
      "[ 6  7  8  9 10]\n",
      "[11 12 13 14 15]\n"
     ]
    }
   ],
   "source": [
    "for i in A:\n",
    "    print(i)"
   ]
  },
  {
   "cell_type": "code",
   "execution_count": 13,
   "id": "f4e443a0",
   "metadata": {},
   "outputs": [
    {
     "name": "stdout",
     "output_type": "stream",
     "text": [
      "1\n",
      "2\n",
      "3\n",
      "4\n",
      "5\n",
      "6\n",
      "7\n",
      "8\n",
      "9\n",
      "10\n",
      "11\n",
      "12\n",
      "13\n",
      "14\n",
      "15\n"
     ]
    }
   ],
   "source": [
    "for i in A.flat:\n",
    "    print(i)"
   ]
  },
  {
   "cell_type": "markdown",
   "id": "608a2583",
   "metadata": {},
   "source": [
    "### Explain what the code below does. More specifically, b has three axes - what does this mean? "
   ]
  },
  {
   "cell_type": "code",
   "execution_count": 14,
   "id": "f8f9b26f",
   "metadata": {},
   "outputs": [
    {
     "name": "stdout",
     "output_type": "stream",
     "text": [
      "[ 0  1  2  3  4  5  6  7  8  9 10 11 12 13 14 15 16 17 18 19 20 21 22 23\n",
      " 24 25 26 27 28 29]\n",
      "\n",
      "[[[ 0  1  2  3  4]\n",
      "  [ 5  6  7  8  9]\n",
      "  [10 11 12 13 14]]\n",
      "\n",
      " [[15 16 17 18 19]\n",
      "  [20 21 22 23 24]\n",
      "  [25 26 27 28 29]]]\n"
     ]
    }
   ],
   "source": [
    "a = np.arange(30)\n",
    "b = a.reshape((2, 3, -1))\n",
    "print(a)\n",
    "print()\n",
    "\n",
    "print(b)"
   ]
  },
  {
   "cell_type": "code",
   "execution_count": 15,
   "id": "863a45df",
   "metadata": {},
   "outputs": [],
   "source": [
    "# np.arange(30) creates an array with 30 elements (0 to 29).\n",
    "# a.reshape((2, 3, -1)) will reshape the array into two arrays with three rows each.\n",
    "# If a dimension is given as -1 in a reshaping operation, the other dimensions are automatically calculated:"
   ]
  },
  {
   "cell_type": "markdown",
   "id": "421c9607-819a-401d-949a-97424436fe29",
   "metadata": {},
   "source": [
    "# For the exercises below, read the document *\"matematik_yh_antonio_vektorer_matriser_utdrag\"*\n",
    "# Solutions to the exercises and recorded videos can be found here: https://github.com/AntonioPrgomet/matematik_foer_yh\n",
    "\n",
    "# If you find the exercises below very hard, do not worry. Try your best, that will be enough. "
   ]
  },
  {
   "cell_type": "markdown",
   "id": "ab5933d5",
   "metadata": {},
   "source": [
    "### Broadcasting\n",
    "**Read the following link about broadcasting: https://numpy.org/doc/stable/user/basics.broadcasting.html#basics-broadcasting**"
   ]
  },
  {
   "cell_type": "markdown",
   "id": "039805ba",
   "metadata": {},
   "source": [
    "# Remark on Broadcasting when doing Linear Algebra calculations in Python. "
   ]
  },
  {
   "cell_type": "markdown",
   "id": "c4bcc147",
   "metadata": {},
   "source": [
    "### From the mathematical rules of matrix addition, the operation below (m1 + m2) does not make sense. The reason is that matrix addition requires two matrices of the same size. In Python however, it works due to broadcasting rules in NumPy. So you must be careful when doing Linear Algebra calculations in Python since they do not follow the \"mathematical rules\". This can however easily be handled by doing some simple programming, for example validating that two matrices have the same shape is easy if you for instance want to add two matrices. "
   ]
  },
  {
   "cell_type": "code",
   "execution_count": 16,
   "id": "1fd46778",
   "metadata": {},
   "outputs": [
    {
     "name": "stdout",
     "output_type": "stream",
     "text": [
      "[[2 3]\n",
      " [4 5]]\n"
     ]
    }
   ],
   "source": [
    "m1 = np.array([[1, 2], [3, 4]])\n",
    "m2 = np.array([1, 1])\n",
    "print(m1 + m2)"
   ]
  },
  {
   "cell_type": "markdown",
   "id": "047d6576",
   "metadata": {},
   "source": [
    "### The example below would also not be allowed if following the \"mathematical rules\" in Linear Algebra. But it works due to broadcasting in NumPy. "
   ]
  },
  {
   "cell_type": "code",
   "execution_count": 17,
   "id": "5e6ef2e4",
   "metadata": {},
   "outputs": [
    {
     "name": "stdout",
     "output_type": "stream",
     "text": [
      "[2 3 4]\n"
     ]
    }
   ],
   "source": [
    "v1 = np.array([1, 2, 3])\n",
    "print(v1 + 1)"
   ]
  },
  {
   "cell_type": "code",
   "execution_count": 18,
   "id": "e2cbae26",
   "metadata": {},
   "outputs": [
    {
     "name": "stdout",
     "output_type": "stream",
     "text": [
      "[[1 2]\n",
      " [3 4]]\n",
      "[2 2]\n"
     ]
    }
   ],
   "source": [
    "A = np.arange(1, 5).reshape(2,2)\n",
    "print(A)\n",
    "\n",
    "b = np.array([2, 2])\n",
    "print(b)"
   ]
  },
  {
   "cell_type": "markdown",
   "id": "722fd5cd",
   "metadata": {},
   "source": [
    "# Vector- and matrix algebra Exercises"
   ]
  },
  {
   "cell_type": "markdown",
   "id": "b63a3081-d976-4d9f-bfd0-a63917e79f7d",
   "metadata": {},
   "source": [
    "**Now you are going to create a function that can be reused every time you add or multiply matrices. The function is created so that we do the addition and multiplication according to the rules of vector- and matrix algebra.**\n",
    "\n",
    "**Create a function \"add_mult_matrices\" that takes two matrices as input arguments (validate that the input are of the type numpy.ndarray by using the isinstance function), a third argument that is either 'add' or 'multiply' that specifies if you want to add or multiply the matrices (validate that the third argument is either 'add' or 'multiply'). When doing matrix addition, validate that the matrices have the same size. When doing matrix multiplication, validate that the sizes conform (i.e. number of columns in the first matrix is equal to the number of rows in the second matrix).**"
   ]
  },
  {
   "cell_type": "code",
   "execution_count": 19,
   "id": "3506f977-ac0a-473f-85bc-eec9f35dc498",
   "metadata": {},
   "outputs": [
    {
     "name": "stdout",
     "output_type": "stream",
     "text": [
      "[[ 4  7]\n",
      " [ 8 14]]\n"
     ]
    }
   ],
   "source": [
    "def add_mult_matrices(m1, m2, math):\n",
    "    try:            \n",
    "        if (isinstance(m1, np.ndarray) & isinstance(m2, np.ndarray)):\n",
    "            if (math == \"add\"):\n",
    "                if(m1.size == m2.size):\n",
    "                    return print(m1 + m2)\n",
    "                else:\n",
    "                    print(\"Function add_mult_matrices error: Matrices is not of the same size.\")\n",
    "                \n",
    "            elif (math == \"multiply\"):\n",
    "                d1 = m1.shape\n",
    "                r1, c1 = d1\n",
    "\n",
    "                d2 = m2.shape\n",
    "                r2, c2 = d2\n",
    "                \n",
    "                if(c1 == r2):\n",
    "                    return print(np.dot(m1,m2))\n",
    "                else:\n",
    "                    print(\"Function add_mult_matrices error: Number of columns in the first matrix is not equal to the number of rows in the second matrix.\")\n",
    "                \n",
    "            else:\n",
    "                print(\"Function add_mult_matrices error: Use either add or multiply.\")        \n",
    "            \n",
    "        else:\n",
    "            print (\"Function add_mult_matrices error: Requires two arguments of the type ndarray.\")\n",
    "    \n",
    "    except ValueError:\n",
    "        print (\"Function add_mult_matrices error: When doing matrix addition, validate that the matrices have the same size. When doing matrix multiplication, validate that the sizes conform.\")\n",
    "                \n",
    "if __name__ == \"__main__\":\n",
    "    \n",
    "    # m1 = np.array([[2,3,4],[5,4,1]])\n",
    "    # m1 = np.array([[1,2],[2,1]])\n",
    "    # m1 = np.array([[2,2,2],[2,2,2]])\n",
    "    m1 = np.array([[1,2],[2,4]])    \n",
    "    # m1 = np.ndarray(shape=(2,2))\n",
    "    # m1 = 2\n",
    "    \n",
    "    # m2 = np.array([[2,5],[3,4],[4,1]])\n",
    "    # m2 = np.array([[2,2],[2,2],[2,2]])\n",
    "    # m2 = np.array([[1,0],[0,1]])\n",
    "    # m2 = np.array([[2,1],[1,3]])\n",
    "    m2 = np.array([[4,3],[0,2]])    \n",
    "    # m2 = np.ndarray(shape=(2,2))    \n",
    "    # m2 = 1\n",
    "    \n",
    "    # add_mult_matrices(m1, m2, \"add\")\n",
    "    add_mult_matrices(m1, m2, \"multiply\")\n",
    "    # add_mult_matrices(m1, m2, \"substract\")   "
   ]
  },
  {
   "cell_type": "markdown",
   "id": "8dad82d0-2359-4dff-8f5b-a57d3e34103c",
   "metadata": {},
   "source": [
    "### Solve all the exercises in chapter 10.1 in the book \"Matematik för yrkeshögskolan\". "
   ]
  },
  {
   "cell_type": "code",
   "execution_count": 20,
   "id": "89df88af-3668-4d98-a0a4-e6d92eea0f89",
   "metadata": {},
   "outputs": [],
   "source": [
    "# Uppgift 10.1.1\n",
    "# a) En rad och två kolumner, 1 x 2.\n",
    "# b) 5x = 5(4,3) = (20,15)\n",
    "# c) 3x = 3(4,3) = (12,9)\n",
    "# d) 5x + 3x = 5(4,3) + 3(4,3) = (20,15) + (12,9) = (32,24)\n",
    "# e) 8x = 8(4,3) = (32,24)\n",
    "# f) 4x - x = 4(4,3) - (4,3) = (12,9)\n",
    "# g) (4,3) = (4)\n",
    "#            (3)\n",
    "# h) Ej definerat\n",
    "# i) 5\n",
    "\n",
    "# Uppgift 10.1.2\n",
    "# a) Fyra rader och en kolumn, 4 x 1.\n",
    "# b) 2v = (6)\n",
    "#         (14)\n",
    "#         (0)\n",
    "#         (22)\n",
    "# c) 5v + 2v = (15) + (6) = (21)\n",
    "#              (35)   (14)  (49)\n",
    "#              (0)    (0)   (0)\n",
    "#              (55)   (22)  (77)\n",
    "# d) 4v - 2v = (12) - (6) = (6)\n",
    "#              (21)   (14)  (7)\n",
    "#              (0)    (0)   (0)\n",
    "#              (44)   (22)  (22)\n",
    "# e) (3) = (3,7,0,11)\n",
    "#    (7)\n",
    "#    (0)\n",
    "#    (11)\n",
    "# f) 13,37\n",
    "\n",
    "# Uppgift 10.1.3\n",
    "# a) 7,14\n",
    "# b) 7,14 - 3,87 = 4,27"
   ]
  },
  {
   "cell_type": "markdown",
   "id": "75c98984-1f88-4df1-b850-d2466de444a5",
   "metadata": {},
   "source": [
    "### Solve all the exercises, except 10.2.4, in chapter 10.2 in the book \"Matematik för yrkeshögskolan\". "
   ]
  },
  {
   "cell_type": "code",
   "execution_count": 21,
   "id": "65371610-16e1-48b2-b7fb-65e49002608a",
   "metadata": {},
   "outputs": [],
   "source": [
    "# Uppgift 10.2.1\n",
    "# a) (4, 2, -2)\n",
    "#    (2, -2, 2)\n",
    "#\n",
    "# b) (0, -4, 3)\n",
    "#    (0, -2, -4)\n",
    "#\n",
    "# c) Subtraction can only be performed on order of same matrices.\n",
    "#\n",
    "# d) (6, 8) - (3, 6) = (3, 2)\n",
    "#    (8, 6)   (6, 3)   (2, 3)\n",
    "#\n",
    "# e) (4, 3) + (6, 8) = (10, 11)\n",
    "#    (3, 4)   (8, 6)   (11, 10)\n",
    "# \n",
    "# f) (4, 2) - (8, 6) = (-4, -4)\n",
    "#    (2, 4)   (6, 8)   (-4, -4)\n",
    "#\n",
    "# g) Subtraction can only be performed on order of same matrices. \n",
    "#\n",
    "# h) Not same amount of columns in A as rows in B.\n",
    "#\n",
    "# i) (1x3 + 2x4) (1x4 + 2x3) = (11, 10)\n",
    "#    (2x3 + 1x4) (2x4 + 1x3)   (10, 11)\n",
    "#\n",
    "# j) [[  8 -10  -3]\n",
    "#     [ 10  -8   0]]\n",
    "#\n",
    "# k) [[1 2]\n",
    "#     [2 1]]\n",
    "#\n",
    "# i) [[5 2]\n",
    "#     [7 4]]\n",
    "#\n",
    "# Uppgift 10.2.2\n",
    "#    [[29 26]\n",
    "#     [26 42]]\n",
    "#\n",
    "# Uppgift 10.2.3\n",
    "# AB = [[ 4  7]\n",
    "#       [ 8 14]]\n",
    "#\n",
    "# AC = [[ 4  7]\n",
    "#       [ 8 14]]\n",
    "#\n",
    "# AB is equal to AC.\n",
    "#\n",
    "#\n",
    "# A = [[ 2  1]\n",
    "#       [ 1 3]]\n",
    "#\n",
    "# C = [[ 4  3]\n",
    "#       [ 0 2]]\n",
    "# A is not equal to C."
   ]
  },
  {
   "cell_type": "markdown",
   "id": "6a4a524f",
   "metadata": {},
   "source": [
    "### Copies and Views\n",
    "Read the following link: https://numpy.org/doc/stable/user/basics.copies.html"
   ]
  },
  {
   "cell_type": "markdown",
   "id": "6cbbeaf7",
   "metadata": {},
   "source": [
    "**Basic indexing creates a view, How can you check if v1 and v2 is a view or copy? If you change the last element in v2 to 123, will the last element in v1 be changed? Why?**"
   ]
  },
  {
   "cell_type": "code",
   "execution_count": 22,
   "id": "5b9ef4df",
   "metadata": {},
   "outputs": [
    {
     "name": "stdout",
     "output_type": "stream",
     "text": [
      "[0 1 2 3]\n",
      "[2 3]\n"
     ]
    }
   ],
   "source": [
    "v1 = np.arange(4)\n",
    "v2 = v1[-2:]\n",
    "print(v1)\n",
    "print(v2)"
   ]
  },
  {
   "cell_type": "code",
   "execution_count": 23,
   "id": "d2440489",
   "metadata": {},
   "outputs": [
    {
     "name": "stdout",
     "output_type": "stream",
     "text": [
      "None\n",
      "[0 1 2 3]\n"
     ]
    }
   ],
   "source": [
    "# The base attribute of a view returns the original array while it returns None for a copy.\n",
    "print(v1.base)\n",
    "print(v2.base)"
   ]
  },
  {
   "cell_type": "code",
   "execution_count": 24,
   "id": "c8752807",
   "metadata": {},
   "outputs": [
    {
     "name": "stdout",
     "output_type": "stream",
     "text": [
      "[  0   1   2 123]\n",
      "[  2 123]\n"
     ]
    }
   ],
   "source": [
    "# The last element in v1 will be changed aswell since v2 is a view, meaning they share the same data buffer.\n",
    "v2[-1] = 123\n",
    "print(v1)\n",
    "print(v2)"
   ]
  },
  {
   "cell_type": "code",
   "execution_count": 25,
   "id": "3dd68221",
   "metadata": {},
   "outputs": [
    {
     "name": "stdout",
     "output_type": "stream",
     "text": [
      "True\n",
      "False\n",
      "[  0   1   2 123]\n",
      "[  2 123]\n"
     ]
    }
   ],
   "source": [
    "# How can you check if v1 and v2 is a view or copy?\n",
    "print(v1.base is None) # v1 is a copy\n",
    "print(v2.base is None) # v2 is a view\n",
    "# If you change the last element in v2 to 123, will the last element in v1 be changed? Why?\n",
    "print(v1)\n",
    "print(v2)\n",
    "# Yes. v1 (copy) share the same data buffer as v2 (view)."
   ]
  }
 ],
 "metadata": {
  "kernelspec": {
   "display_name": "Python [conda env:paivt25d_pyais]",
   "language": "python",
   "name": "conda-env-paivt25d_pyais-py"
  },
  "language_info": {
   "codemirror_mode": {
    "name": "ipython",
    "version": 3
   },
   "file_extension": ".py",
   "mimetype": "text/x-python",
   "name": "python",
   "nbconvert_exporter": "python",
   "pygments_lexer": "ipython3",
   "version": "3.10.16"
  }
 },
 "nbformat": 4,
 "nbformat_minor": 5
}
